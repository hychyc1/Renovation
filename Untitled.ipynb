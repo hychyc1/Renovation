{
 "cells": [
  {
   "cell_type": "code",
   "execution_count": 2,
   "id": "49126243-8a3e-4ce5-8c02-de5b7aa9d608",
   "metadata": {},
   "outputs": [
    {
     "name": "stdout",
     "output_type": "stream",
     "text": [
      "        ID  批次  容积率     模式                                           geometry\n",
      "0      243  10  2.2  6:2:2  POLYGON ((116.46873 39.89914, 116.46905 39.899...\n",
      "1      406  10  2.2  6:2:2  POLYGON ((116.39935 39.93822, 116.39930 39.938...\n",
      "2      892   9  1.9  1:6:3  POLYGON ((116.39531 39.87337, 116.39476 39.873...\n",
      "3     3584   3  2.1  6:2:2  POLYGON ((116.23940 39.92966, 116.23962 39.929...\n",
      "4     5633  11  1.8  2:7:1  POLYGON ((116.59276 39.83763, 116.58895 39.834...\n",
      "..     ...  ..  ...    ...                                                ...\n",
      "355  15551   7  2.0  4:4:2  POLYGON ((116.29428 39.99554, 116.29324 39.995...\n",
      "356  15554  10  2.1  4:3:3  POLYGON ((116.48878 39.89954, 116.48551 39.899...\n",
      "357  15558  11  2.1  6:2:2  POLYGON ((116.45002 39.98903, 116.45002 39.989...\n",
      "358  15560  10  2.1  4:3:3  POLYGON ((116.48984 39.90062, 116.48991 39.900...\n",
      "359  15562   7  2.2  6:2:2  POLYGON ((116.29932 39.97766, 116.29927 39.977...\n",
      "\n",
      "[360 rows x 5 columns]\n"
     ]
    }
   ],
   "source": [
    "import geopandas as gpd\n",
    "\n",
    "plan = gpd.read_file('baseline/方案一/360村庄方案统一格式.shp')\n",
    "\n",
    "print(plan)"
   ]
  },
  {
   "cell_type": "code",
   "execution_count": null,
   "id": "a2a7c96d-cd2e-4047-886f-5878fe0010d4",
   "metadata": {},
   "outputs": [],
   "source": []
  }
 ],
 "metadata": {
  "kernelspec": {
   "display_name": "Python 3 (ipykernel)",
   "language": "python",
   "name": "python3"
  },
  "language_info": {
   "codemirror_mode": {
    "name": "ipython",
    "version": 3
   },
   "file_extension": ".py",
   "mimetype": "text/x-python",
   "name": "python",
   "nbconvert_exporter": "python",
   "pygments_lexer": "ipython3",
   "version": "3.10.15"
  }
 },
 "nbformat": 4,
 "nbformat_minor": 5
}
